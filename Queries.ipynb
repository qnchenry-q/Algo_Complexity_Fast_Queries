{
 "cells": [
  {
   "cell_type": "markdown",
   "metadata": {},
   "source": [
    "In this project, I own a laptop store. The purpose is to find answers to certain inquiries in as little time as possible. "
   ]
  },
  {
   "cell_type": "code",
   "execution_count": 1,
   "metadata": {},
   "outputs": [],
   "source": [
    "import csv\n",
    "file = list(csv.reader(open('laptops.csv')))\n",
    "header = file[0]\n",
    "rows = file[1:]"
   ]
  },
  {
   "cell_type": "code",
   "execution_count": 2,
   "metadata": {},
   "outputs": [
    {
     "name": "stdout",
     "output_type": "stream",
     "text": [
      "['Id', 'Company', 'Product', 'TypeName', 'Inches', 'ScreenResolution', 'Cpu', 'Ram', 'Memory', 'Gpu', 'OpSys', 'Weight', 'Price']\n"
     ]
    }
   ],
   "source": [
    "print(header)"
   ]
  },
  {
   "cell_type": "code",
   "execution_count": 3,
   "metadata": {
    "scrolled": true
   },
   "outputs": [
    {
     "name": "stdout",
     "output_type": "stream",
     "text": [
      "[['6571244', 'Apple', 'MacBook Pro', 'Ultrabook', '13.3', 'IPS Panel Retina Display 2560x1600', 'Intel Core i5 2.3GHz', '8GB', '128GB SSD', 'Intel Iris Plus Graphics 640', 'macOS', '1.37kg', '1339'], ['7287764', 'Apple', 'Macbook Air', 'Ultrabook', '13.3', '1440x900', 'Intel Core i5 1.8GHz', '8GB', '128GB Flash Storage', 'Intel HD Graphics 6000', 'macOS', '1.34kg', '898'], ['3362737', 'HP', '250 G6', 'Notebook', '15.6', 'Full HD 1920x1080', 'Intel Core i5 7200U 2.5GHz', '8GB', '256GB SSD', 'Intel HD Graphics 620', 'No OS', '1.86kg', '575'], ['9722156', 'Apple', 'MacBook Pro', 'Ultrabook', '15.4', 'IPS Panel Retina Display 2880x1800', 'Intel Core i7 2.7GHz', '16GB', '512GB SSD', 'AMD Radeon Pro 455', 'macOS', '1.83kg', '2537'], ['8550527', 'Apple', 'MacBook Pro', 'Ultrabook', '13.3', 'IPS Panel Retina Display 2560x1600', 'Intel Core i5 3.1GHz', '8GB', '256GB SSD', 'Intel Iris Plus Graphics 650', 'macOS', '1.37kg', '1803']]\n"
     ]
    }
   ],
   "source": [
    "print(rows[:5])"
   ]
  },
  {
   "cell_type": "markdown",
   "metadata": {},
   "source": [
    "Below I will create an Inventory object so that I can practice OOP and call methods to query the inventory."
   ]
  },
  {
   "cell_type": "code",
   "execution_count": 4,
   "metadata": {},
   "outputs": [],
   "source": [
    "class Inventory:\n",
    "    def __init__(self, csv_filename):\n",
    "        self.csv_filename = csv_filename\n",
    "        self.header = list(csv.reader(open(csv_filename)))[0]\n",
    "        self.rows = list(csv.reader(open(csv_filename)))[1:]\n",
    "        for row in self.rows:\n",
    "            row[-1] = int(row[-1])"
   ]
  },
  {
   "cell_type": "code",
   "execution_count": 5,
   "metadata": {},
   "outputs": [],
   "source": [
    "test_1 = Inventory('laptops.csv')"
   ]
  },
  {
   "cell_type": "code",
   "execution_count": 6,
   "metadata": {},
   "outputs": [
    {
     "name": "stdout",
     "output_type": "stream",
     "text": [
      "['Id', 'Company', 'Product', 'TypeName', 'Inches', 'ScreenResolution', 'Cpu', 'Ram', 'Memory', 'Gpu', 'OpSys', 'Weight', 'Price']\n",
      "['6571244', 'Apple', 'MacBook Pro', 'Ultrabook', '13.3', 'IPS Panel Retina Display 2560x1600', 'Intel Core i5 2.3GHz', '8GB', '128GB SSD', 'Intel Iris Plus Graphics 640', 'macOS', '1.37kg', 1339]\n",
      "1303\n"
     ]
    }
   ],
   "source": [
    "#Test to see if object instantiates correctly\n",
    "print(test_1.header)\n",
    "print(test_1.rows[0])\n",
    "print(len(test_1.rows))"
   ]
  },
  {
   "cell_type": "markdown",
   "metadata": {},
   "source": [
    "Now we will create our first query method. It checks whether a laptop is in our inventory by ID. If it is, the method returns the whole row. If not, it returns the None type"
   ]
  },
  {
   "cell_type": "code",
   "execution_count": 7,
   "metadata": {},
   "outputs": [],
   "source": [
    "class Inventory:\n",
    "    def __init__(self, csv_filename):\n",
    "        self.csv_filename = csv_filename\n",
    "        self.header = list(csv.reader(open(csv_filename)))[0]\n",
    "        self.rows = list(csv.reader(open(csv_filename)))[1:]\n",
    "        for row in self.rows:\n",
    "            row[-1] = int(row[-1])\n",
    "            \n",
    "    def get_laptop_from_id(self, laptop_id):      #Added this method\n",
    "        for row in self.rows:\n",
    "            if row[0] == laptop_id:\n",
    "                return row\n",
    "        return None"
   ]
  },
  {
   "cell_type": "code",
   "execution_count": 8,
   "metadata": {},
   "outputs": [
    {
     "name": "stdout",
     "output_type": "stream",
     "text": [
      "['3362737', 'HP', '250 G6', 'Notebook', '15.6', 'Full HD 1920x1080', 'Intel Core i5 7200U 2.5GHz', '8GB', '256GB SSD', 'Intel HD Graphics 620', 'No OS', '1.86kg', 575]\n",
      "None\n"
     ]
    }
   ],
   "source": [
    "#Test Inventory.get_laptop_from_id()\n",
    "test_2 = Inventory('laptops.csv')\n",
    "print(test_2.get_laptop_from_id('3362737'))      # should return a row\n",
    "print(test_2.get_laptop_from_id('3362736'))      # should return None"
   ]
  },
  {
   "cell_type": "markdown",
   "metadata": {},
   "source": [
    "I learned that we can optimize search algorithms by preprocessing the data into a set, if applicable. Because the ID's are unique, this scenario applies. The keys of a dictionary are a set so we will use a dictionary with the keys being ID's and the values being the entire row."
   ]
  },
  {
   "cell_type": "code",
   "execution_count": 9,
   "metadata": {},
   "outputs": [],
   "source": [
    "class Inventory:\n",
    "    def __init__(self, csv_filename):\n",
    "        self.csv_filename = csv_filename\n",
    "        self.header = list(csv.reader(open(csv_filename)))[0]\n",
    "        self.rows = list(csv.reader(open(csv_filename)))[1:]\n",
    "        for row in self.rows:\n",
    "            row[-1] = int(row[-1])\n",
    "        self.id_to_row = {}       #preprocess into dictionary to optimize\n",
    "        for row in self.rows:\n",
    "            self.id_to_row[row[0]] = row\n",
    "    \n",
    "    def get_laptop_from_id(self, laptop_id):      \n",
    "        for row in self.rows:\n",
    "            if row[0] == laptop_id:\n",
    "                return row\n",
    "        return None\n",
    "    \n",
    "    def get_laptop_from_id_fast(self, laptop_id):  #optimized search utilizing dictionary\n",
    "        if laptop_id in self.id_to_row:\n",
    "            return self.id_to_row[laptop_id]\n",
    "        return None"
   ]
  },
  {
   "cell_type": "code",
   "execution_count": 10,
   "metadata": {},
   "outputs": [
    {
     "name": "stdout",
     "output_type": "stream",
     "text": [
      "['3362737', 'HP', '250 G6', 'Notebook', '15.6', 'Full HD 1920x1080', 'Intel Core i5 7200U 2.5GHz', '8GB', '256GB SSD', 'Intel HD Graphics 620', 'No OS', '1.86kg', 575]\n",
      "None\n"
     ]
    }
   ],
   "source": [
    "# Test Inventory.get_laptop_from_id_fast\n",
    "test_3 = Inventory('laptops.csv')\n",
    "print(test_3.get_laptop_from_id_fast('3362737'))      # should return a row\n",
    "print(test_3.get_laptop_from_id_fast('3362736'))      # should return None"
   ]
  },
  {
   "cell_type": "code",
   "execution_count": 11,
   "metadata": {},
   "outputs": [
    {
     "name": "stdout",
     "output_type": "stream",
     "text": [
      "time without preprocess: 1.011950969696045, time with preprocess: 0.004727840423583984\n"
     ]
    }
   ],
   "source": [
    "#Time/clock both get_laptop_from_id methods\n",
    "\n",
    "import time\n",
    "import random\n",
    "\n",
    "ids = [str(random.randint(1000000, 9999999)) for _ in range(10000)]   #10,0000 random ID's in range appearing in data\n",
    "\n",
    "test_4 = Inventory('laptops.csv')\n",
    "\n",
    "total_time_no_dict = 0            #time the initial query\n",
    "for _ in ids:\n",
    "    start = time.time()\n",
    "    test_4.get_laptop_from_id(_)\n",
    "    end = time.time()\n",
    "    total_time_no_dict += end - start\n",
    "    \n",
    "total_time_dict = 0            # time the query with preprocessing\n",
    "for _ in ids:\n",
    "    start = time.time()\n",
    "    test_4.get_laptop_from_id_fast(_)\n",
    "    end = time.time()\n",
    "    total_time_dict += end - start\n",
    "    \n",
    "print(f'time without preprocess: {total_time_no_dict}, time with preprocess: {total_time_dict}')"
   ]
  },
  {
   "cell_type": "markdown",
   "metadata": {},
   "source": [
    "Wow! We saw above that preprocessing the inventory into a dictionary saved us a tremendous amount of time."
   ]
  },
  {
   "cell_type": "markdown",
   "metadata": {},
   "source": [
    "Let's now approach a different scenario. Let's consider a single usage promotion gift card. \"Single usage\" meaning a user cannot use leftover money at a later time. Now we will approach the problem of allowing a user at least one option to spend their gift card in full. Meaning that there should be a pair of laptops whose prices summate to equal the amount of the gift card exactly, for any gift card.\n",
    "\n",
    "Below I'll establish a methoed that will return a boolean value if a combination of laptops exist whose prices, together, equal the amount of the gift card. "
   ]
  },
  {
   "cell_type": "code",
   "execution_count": 12,
   "metadata": {},
   "outputs": [],
   "source": [
    "class Inventory:\n",
    "    def __init__(self, csv_filename):\n",
    "        self.csv_filename = csv_filename\n",
    "        self.header = list(csv.reader(open(csv_filename)))[0]\n",
    "        self.rows = list(csv.reader(open(csv_filename)))[1:]\n",
    "        for row in self.rows:\n",
    "            row[-1] = int(row[-1])\n",
    "        self.id_to_row = {}       \n",
    "        for row in self.rows:\n",
    "            self.id_to_row[row[0]] = row\n",
    "    \n",
    "    def get_laptop_from_id(self, laptop_id):      \n",
    "        for row in self.rows:\n",
    "            if row[0] == laptop_id:\n",
    "                return row\n",
    "        return None\n",
    "    \n",
    "    def get_laptop_from_id_fast(self, laptop_id):  \n",
    "        if laptop_id in self.id_to_row:\n",
    "            return self.id_to_row[laptop_id]\n",
    "        return None\n",
    "    \n",
    "    def check_promotion_dollars(self, dollars): #added method\n",
    "        for row in self.rows:\n",
    "            for entry in self.rows:\n",
    "                if row[-1] + entry[-1] == dollars:\n",
    "                    return True\n",
    "        return False"
   ]
  },
  {
   "cell_type": "code",
   "execution_count": 13,
   "metadata": {},
   "outputs": [
    {
     "name": "stdout",
     "output_type": "stream",
     "text": [
      "True\n",
      "False\n"
     ]
    }
   ],
   "source": [
    "#Test of check promotion_dollars\n",
    "\n",
    "test_5 = Inventory('laptops.csv')\n",
    "print(test_5.check_promotion_dollars(1000)) # should return True\n",
    "print(test_5.check_promotion_dollars(442)) #should return False"
   ]
  },
  {
   "cell_type": "markdown",
   "metadata": {},
   "source": [
    "I'm now choosing to preprocess the data by converting the collection of prices into a set in the __init__ method"
   ]
  },
  {
   "cell_type": "code",
   "execution_count": 14,
   "metadata": {},
   "outputs": [],
   "source": [
    "class Inventory:\n",
    "    def __init__(self, csv_filename):\n",
    "        self.csv_filename = csv_filename\n",
    "        self.header = list(csv.reader(open(csv_filename)))[0]\n",
    "        self.rows = list(csv.reader(open(csv_filename)))[1:]\n",
    "        for row in self.rows:\n",
    "            row[-1] = int(row[-1])\n",
    "        self.id_to_row = {}       \n",
    "        for row in self.rows:\n",
    "            self.id_to_row[row[0]] = row\n",
    "        self.prices = set()            #initialize preprocessed set for prices\n",
    "        for row in self.rows:\n",
    "            self.prices.add(row[-1])\n",
    "    \n",
    "    def get_laptop_from_id(self, laptop_id):      \n",
    "        for row in self.rows:\n",
    "            if row[0] == laptop_id:\n",
    "                return row\n",
    "        return None\n",
    "    \n",
    "    def get_laptop_from_id_fast(self, laptop_id):  \n",
    "        if laptop_id in self.id_to_row:\n",
    "            return self.id_to_row[laptop_id]\n",
    "        return None\n",
    "    \n",
    "    def check_promotion_dollars(self, dollars): \n",
    "        for row in self.rows:\n",
    "            for entry in self.rows:\n",
    "                if row[-1] + entry[-1] == dollars:\n",
    "                    return True\n",
    "        return False\n",
    "    \n",
    "    def check_promotion_dollars_fast(self, dollars):   #lookup using the set\n",
    "        for price in self.prices:\n",
    "            if price == dollars:\n",
    "                return True\n",
    "            for amount in self.prices:\n",
    "                if price + amount == dollars:\n",
    "                    return True\n",
    "        return False"
   ]
  },
  {
   "cell_type": "code",
   "execution_count": 15,
   "metadata": {},
   "outputs": [
    {
     "name": "stdout",
     "output_type": "stream",
     "text": [
      "True\n",
      "False\n"
     ]
    }
   ],
   "source": [
    "#test check_promotioin_dollars_fast\n",
    "test_6 = Inventory('laptops.csv')\n",
    "print(test_6.check_promotion_dollars_fast(1000)) #should return True\n",
    "print(test_6.check_promotion_dollars_fast(442)) #should return False"
   ]
  },
  {
   "cell_type": "code",
   "execution_count": 16,
   "metadata": {},
   "outputs": [
    {
     "name": "stdout",
     "output_type": "stream",
     "text": [
      "time before: 1.8240749835968018, time after: 0.3764979839324951\n"
     ]
    }
   ],
   "source": [
    "#Time/clock promotion lookup times\n",
    "\n",
    "prices = [random.randint(100,5000) for _ in range(100)]\n",
    "test_7 = Inventory('laptops.csv')\n",
    "\n",
    "total_time_no_set = 0\n",
    "for price in prices:\n",
    "    start = time.time()\n",
    "    test_7.check_promotion_dollars(price)\n",
    "    end = time.time()\n",
    "    total_time_no_set += end - start\n",
    "    \n",
    "total_time_set = 0\n",
    "for price in prices:\n",
    "    start = time.time()\n",
    "    test_7.check_promotion_dollars_fast(price)\n",
    "    end = time.time()\n",
    "    total_time_set += end - start\n",
    "    \n",
    "print(f'time before: {total_time_no_set}, time after: {total_time_set}')"
   ]
  },
  {
   "cell_type": "markdown",
   "metadata": {},
   "source": [
    "Great! We, once again, save a tremendous amount of time. \n",
    "\n",
    "Now we will solve the problem of finding potential purchases using a budget. To do so we will implement a binary search. "
   ]
  },
  {
   "cell_type": "code",
   "execution_count": 17,
   "metadata": {},
   "outputs": [],
   "source": [
    "class Inventory:\n",
    "    def __init__(self, csv_filename):\n",
    "        self.csv_filename = csv_filename\n",
    "        self.header = list(csv.reader(open(csv_filename)))[0]\n",
    "        self.rows = list(csv.reader(open(csv_filename)))[1:]\n",
    "        for row in self.rows:\n",
    "            row[-1] = int(row[-1])\n",
    "        self.id_to_row = {}       \n",
    "        for row in self.rows:\n",
    "            self.id_to_row[row[0]] = row\n",
    "        self.prices = set()            \n",
    "        for row in self.rows:\n",
    "            self.prices.add(row[-1])\n",
    "        self.rows_by_price = sorted(self.rows, key = lambda x: x[-1])  #sorted list of prices for binary search\n",
    "    \n",
    "    def get_laptop_from_id(self, laptop_id):      \n",
    "        for row in self.rows:\n",
    "            if row[0] == laptop_id:\n",
    "                return row\n",
    "        return None\n",
    "    \n",
    "    def get_laptop_from_id_fast(self, laptop_id):  \n",
    "        if laptop_id in self.id_to_row:\n",
    "            return self.id_to_row[laptop_id]\n",
    "        return None\n",
    "    \n",
    "    def check_promotion_dollars(self, dollars): \n",
    "        for row in self.rows:\n",
    "            for entry in self.rows:\n",
    "                if row[-1] + entry[-1] == dollars:\n",
    "                    return True\n",
    "        return False\n",
    "    \n",
    "    def check_promotion_dollars_fast(self, dollars):   \n",
    "        for price in self.prices:\n",
    "            if price == dollars:\n",
    "                return True\n",
    "            for amount in self.prices:\n",
    "                if price + amount == dollars:\n",
    "                    return True\n",
    "        return False\n",
    "    \n",
    "    def find_first_laptop_more_expensive(self, price):    #binary search\n",
    "        range_start = 0\n",
    "        range_end = len(self.rows_by_price) - 1\n",
    "        while range_start < range_end:\n",
    "            range_middle = (range_end + range_start)//2\n",
    "            value = self.rows_by_price[range_middle][-1]\n",
    "            if value <= price:\n",
    "                range_start = range_middle + 1\n",
    "            elif value > price:\n",
    "                range_end = range_middle\n",
    "        value = self.rows_by_price[range_start][-1]\n",
    "        if value <= price:\n",
    "            return -1\n",
    "        return range_start"
   ]
  },
  {
   "cell_type": "code",
   "execution_count": 20,
   "metadata": {},
   "outputs": [
    {
     "name": "stdout",
     "output_type": "stream",
     "text": [
      "683\n",
      "-1\n",
      "['4910469', 'HP', '17-bs000nv I3', 'Notebook', '17.3', 'IPS Panel Full HD 1920x1080', 'Intel Core i3 6006U 2GHz', '4GB', '256GB SSD', 'AMD Radeon R5 520', 'Windows 10', '2.5kg', 699]\n",
      "['9224516', 'Dell', 'Alienware 15', 'Gaming', '15.6', 'Full HD 1920x1080', 'Intel Core i5 7300HQ 2.5GHz', '16GB', '128GB SSD +  1TB HDD', 'Nvidia GeForce GTX 1060', 'Windows 10', '3.21kg', 2051]\n"
     ]
    }
   ],
   "source": [
    "test_8 = Inventory('laptops.csv')\n",
    "print(test_8.find_first_laptop_more_expensive(1000))    \n",
    "print(test_8.find_first_laptop_more_expensive(10000))\n",
    "print(test_8.rows[683])\n",
    "print(test_8.rows[682])"
   ]
  },
  {
   "cell_type": "code",
   "execution_count": null,
   "metadata": {},
   "outputs": [],
   "source": []
  }
 ],
 "metadata": {
  "kernelspec": {
   "display_name": "Python 3",
   "language": "python",
   "name": "python3"
  },
  "language_info": {
   "codemirror_mode": {
    "name": "ipython",
    "version": 3
   },
   "file_extension": ".py",
   "mimetype": "text/x-python",
   "name": "python",
   "nbconvert_exporter": "python",
   "pygments_lexer": "ipython3",
   "version": "3.8.2"
  }
 },
 "nbformat": 4,
 "nbformat_minor": 2
}
